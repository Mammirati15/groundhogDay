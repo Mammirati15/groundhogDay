{
 "cells": [
  {
   "cell_type": "code",
   "execution_count": 2,
   "id": "b511cea2-2eb4-478f-bd0d-049cea84697b",
   "metadata": {},
   "outputs": [],
   "source": [
    "import numpy as np\n",
    "import pandas as pd\n",
    "import matplotlib.pyplot as plt\n",
    "import seaborn as sns"
   ]
  },
  {
   "cell_type": "code",
   "execution_count": 3,
   "id": "ceeb7f93",
   "metadata": {},
   "outputs": [],
   "source": [
    "groundHog_data = pd.read_csv('archive.csv')"
   ]
  },
  {
   "cell_type": "code",
   "execution_count": 4,
   "id": "9c7b8372",
   "metadata": {},
   "outputs": [
    {
     "name": "stdout",
     "output_type": "stream",
     "text": [
      "   Year Punxsutawney Phil  February Average Temperature  \\\n",
      "0  1886         No Record                           NaN   \n",
      "1  1887       Full Shadow                           NaN   \n",
      "2  1888       Full Shadow                           NaN   \n",
      "3  1889         No Record                           NaN   \n",
      "4  1890         No Shadow                           NaN   \n",
      "\n",
      "   February Average Temperature (Northeast)  \\\n",
      "0                                       NaN   \n",
      "1                                       NaN   \n",
      "2                                       NaN   \n",
      "3                                       NaN   \n",
      "4                                       NaN   \n",
      "\n",
      "   February Average Temperature (Midwest)  \\\n",
      "0                                     NaN   \n",
      "1                                     NaN   \n",
      "2                                     NaN   \n",
      "3                                     NaN   \n",
      "4                                     NaN   \n",
      "\n",
      "   February Average Temperature (Pennsylvania)  March Average Temperature  \\\n",
      "0                                          NaN                        NaN   \n",
      "1                                          NaN                        NaN   \n",
      "2                                          NaN                        NaN   \n",
      "3                                          NaN                        NaN   \n",
      "4                                          NaN                        NaN   \n",
      "\n",
      "   March Average Temperature (Northeast)  March Average Temperature (Midwest)  \\\n",
      "0                                    NaN                                  NaN   \n",
      "1                                    NaN                                  NaN   \n",
      "2                                    NaN                                  NaN   \n",
      "3                                    NaN                                  NaN   \n",
      "4                                    NaN                                  NaN   \n",
      "\n",
      "   March Average Temperature (Pennsylvania)  \n",
      "0                                       NaN  \n",
      "1                                       NaN  \n",
      "2                                       NaN  \n",
      "3                                       NaN  \n",
      "4                                       NaN  \n"
     ]
    }
   ],
   "source": [
    "print (groundHog_data.head())"
   ]
  },
  {
   "cell_type": "code",
   "execution_count": 5,
   "id": "959a2f1d",
   "metadata": {},
   "outputs": [
    {
     "name": "stdout",
     "output_type": "stream",
     "text": [
      "Index(['Year', 'Punxsutawney Phil', 'February Average Temperature',\n",
      "       'February Average Temperature (Northeast)',\n",
      "       'February Average Temperature (Midwest)',\n",
      "       'February Average Temperature (Pennsylvania)',\n",
      "       'March Average Temperature', 'March Average Temperature (Northeast)',\n",
      "       'March Average Temperature (Midwest)',\n",
      "       'March Average Temperature (Pennsylvania)'],\n",
      "      dtype='object')\n"
     ]
    }
   ],
   "source": [
    "#see columns\n",
    "print(groundHog_data.columns)"
   ]
  },
  {
   "cell_type": "code",
   "execution_count": 6,
   "id": "93a0ed42",
   "metadata": {},
   "outputs": [
    {
     "name": "stdout",
     "output_type": "stream",
     "text": [
      "(132, 10)\n"
     ]
    }
   ],
   "source": [
    "#see dimensions\n",
    "print(groundHog_data.shape)"
   ]
  },
  {
   "cell_type": "code",
   "execution_count": 9,
   "id": "fd7ec9f0",
   "metadata": {},
   "outputs": [
    {
     "name": "stdout",
     "output_type": "stream",
     "text": [
      "Year                                            object\n",
      "Punxsutawney Phil                               object\n",
      "February Average Temperature                   float64\n",
      "February Average Temperature (Northeast)       float64\n",
      "February Average Temperature (Midwest)         float64\n",
      "February Average Temperature (Pennsylvania)    float64\n",
      "March Average Temperature                      float64\n",
      "March Average Temperature (Northeast)          float64\n",
      "March Average Temperature (Midwest)            float64\n",
      "March Average Temperature (Pennsylvania)       float64\n",
      "dtype: object\n"
     ]
    }
   ],
   "source": [
    "#see data types\n",
    "print(groundHog_data.dtypes)"
   ]
  },
  {
   "cell_type": "code",
   "execution_count": 8,
   "id": "87a251dd",
   "metadata": {},
   "outputs": [
    {
     "name": "stdout",
     "output_type": "stream",
     "text": [
      "       February Average Temperature  February Average Temperature (Northeast)  \\\n",
      "count                    123.000000                                123.000000   \n",
      "mean                      33.802846                                 22.691870   \n",
      "std                        3.269379                                  4.265619   \n",
      "min                       25.230000                                 10.400000   \n",
      "25%                       31.785000                                 20.050000   \n",
      "50%                       33.690000                                 22.900000   \n",
      "75%                       36.005000                                 25.950000   \n",
      "max                       41.410000                                 31.600000   \n",
      "\n",
      "       February Average Temperature (Midwest)  \\\n",
      "count                              123.000000   \n",
      "mean                                32.695935   \n",
      "std                                  4.843881   \n",
      "min                                 20.300000   \n",
      "25%                                 29.650000   \n",
      "50%                                 33.100000   \n",
      "75%                                 36.300000   \n",
      "max                                 41.400000   \n",
      "\n",
      "       February Average Temperature (Pennsylvania)  March Average Temperature  \\\n",
      "count                                   123.000000                 123.000000   \n",
      "mean                                     26.522764                  41.697398   \n",
      "std                                       4.512293                   2.936268   \n",
      "min                                      15.200000                  35.440000   \n",
      "25%                                      23.600000                  39.390000   \n",
      "50%                                      26.900000                  41.790000   \n",
      "75%                                      29.800000                  43.560000   \n",
      "max                                      35.800000                  50.410000   \n",
      "\n",
      "       March Average Temperature (Northeast)  \\\n",
      "count                             123.000000   \n",
      "mean                               32.367480   \n",
      "std                                 3.873586   \n",
      "min                                24.200000   \n",
      "25%                                29.700000   \n",
      "50%                                32.500000   \n",
      "75%                                34.800000   \n",
      "max                                43.400000   \n",
      "\n",
      "       March Average Temperature (Midwest)  \\\n",
      "count                            123.00000   \n",
      "mean                              42.56748   \n",
      "std                                4.49290   \n",
      "min                               28.50000   \n",
      "25%                               39.15000   \n",
      "50%                               42.80000   \n",
      "75%                               45.60000   \n",
      "max                               56.30000   \n",
      "\n",
      "       March Average Temperature (Pennsylvania)  \n",
      "count                                 123.00000  \n",
      "mean                                   35.90813  \n",
      "std                                     4.19167  \n",
      "min                                    24.50000  \n",
      "25%                                    33.00000  \n",
      "50%                                    35.90000  \n",
      "75%                                    38.50000  \n",
      "max                                    47.70000  \n"
     ]
    }
   ],
   "source": [
    "#descriptive stats\n",
    "print(groundHog_data.describe())"
   ]
  },
  {
   "cell_type": "code",
   "execution_count": 10,
   "id": "6840a397",
   "metadata": {},
   "outputs": [
    {
     "name": "stdout",
     "output_type": "stream",
     "text": [
      "Year                                           0\n",
      "Punxsutawney Phil                              1\n",
      "February Average Temperature                   9\n",
      "February Average Temperature (Northeast)       9\n",
      "February Average Temperature (Midwest)         9\n",
      "February Average Temperature (Pennsylvania)    9\n",
      "March Average Temperature                      9\n",
      "March Average Temperature (Northeast)          9\n",
      "March Average Temperature (Midwest)            9\n",
      "March Average Temperature (Pennsylvania)       9\n",
      "dtype: int64\n"
     ]
    }
   ],
   "source": [
    "#print all the null values\n",
    "print(groundHog_data.isnull().sum())"
   ]
  },
  {
   "cell_type": "code",
   "execution_count": 11,
   "id": "fc37b2fa",
   "metadata": {},
   "outputs": [
    {
     "name": "stdout",
     "output_type": "stream",
     "text": [
      "Year                                           0\n",
      "Punxsutawney Phil                              0\n",
      "February Average Temperature                   0\n",
      "February Average Temperature (Northeast)       0\n",
      "February Average Temperature (Midwest)         0\n",
      "February Average Temperature (Pennsylvania)    0\n",
      "March Average Temperature                      0\n",
      "March Average Temperature (Northeast)          0\n",
      "March Average Temperature (Midwest)            0\n",
      "March Average Temperature (Pennsylvania)       0\n",
      "dtype: int64\n"
     ]
    }
   ],
   "source": [
    "#now check the number of 0s in each column\n",
    "print(groundHog_data.isin([0]).sum())"
   ]
  },
  {
   "cell_type": "code",
   "execution_count": 14,
   "id": "81a2b9c3",
   "metadata": {},
   "outputs": [
    {
     "name": "stdout",
     "output_type": "stream",
     "text": [
      "     Year Punxsutawney Phil  February Average Temperature  \\\n",
      "9    1895         No Record                         26.60   \n",
      "10   1896         No Record                         35.04   \n",
      "11   1897         No Record                         33.39   \n",
      "12   1898       Full Shadow                         35.37   \n",
      "13   1899         No Record                         25.50   \n",
      "..    ...               ...                           ...   \n",
      "126  2012       Full Shadow                         37.51   \n",
      "127  2013         No Shadow                         34.77   \n",
      "128  2014       Full Shadow                         32.13   \n",
      "129  2015       Full Shadow                         32.99   \n",
      "130  2016         No Shadow                         39.47   \n",
      "\n",
      "     February Average Temperature (Northeast)  \\\n",
      "9                                        15.6   \n",
      "10                                       22.2   \n",
      "11                                       23.6   \n",
      "12                                       24.8   \n",
      "13                                       18.1   \n",
      "..                                        ...   \n",
      "126                                      30.6   \n",
      "127                                      25.3   \n",
      "128                                      21.0   \n",
      "129                                      12.1   \n",
      "130                                      28.1   \n",
      "\n",
      "     February Average Temperature (Midwest)  \\\n",
      "9                                      21.9   \n",
      "10                                     33.5   \n",
      "11                                     34.7   \n",
      "12                                     33.3   \n",
      "13                                     22.2   \n",
      "..                                      ...   \n",
      "126                                    38.6   \n",
      "127                                    33.4   \n",
      "128                                    27.1   \n",
      "129                                    23.4   \n",
      "130                                    36.9   \n",
      "\n",
      "     February Average Temperature (Pennsylvania)  March Average Temperature  \\\n",
      "9                                           17.0                      39.97   \n",
      "10                                          26.6                      38.03   \n",
      "11                                          27.9                      38.79   \n",
      "12                                          26.7                      41.05   \n",
      "13                                          20.0                      37.63   \n",
      "..                                           ...                        ...   \n",
      "126                                         34.3                      50.41   \n",
      "127                                         27.4                      40.91   \n",
      "128                                         22.8                      40.51   \n",
      "129                                         16.1                      45.39   \n",
      "130                                         30.8                      47.50   \n",
      "\n",
      "     March Average Temperature (Northeast)  \\\n",
      "9                                     27.6   \n",
      "10                                    25.3   \n",
      "11                                    32.0   \n",
      "12                                    38.0   \n",
      "13                                    29.3   \n",
      "..                                     ...   \n",
      "126                                   43.4   \n",
      "127                                   32.7   \n",
      "128                                   26.0   \n",
      "129                                   27.8   \n",
      "130                                   38.8   \n",
      "\n",
      "     March Average Temperature (Midwest)  \\\n",
      "9                                   40.2   \n",
      "10                                  36.9   \n",
      "11                                  44.0   \n",
      "12                                  46.0   \n",
      "13                                  38.4   \n",
      "..                                   ...   \n",
      "126                                 56.3   \n",
      "127                                 37.3   \n",
      "128                                 38.0   \n",
      "129                                 41.6   \n",
      "130                                 49.5   \n",
      "\n",
      "     March Average Temperature (Pennsylvania)  \n",
      "9                                        31.3  \n",
      "10                                       27.8  \n",
      "11                                       36.9  \n",
      "12                                       42.0  \n",
      "13                                       34.0  \n",
      "..                                        ...  \n",
      "126                                      47.7  \n",
      "127                                      33.9  \n",
      "128                                      30.3  \n",
      "129                                      31.6  \n",
      "130                                      43.4  \n",
      "\n",
      "[122 rows x 10 columns]\n"
     ]
    }
   ],
   "source": [
    "groundHog_data_noNull = groundHog_data.dropna()\n",
    "print(groundHog_data_noNull)"
   ]
  },
  {
   "cell_type": "code",
   "execution_count": 15,
   "id": "f0fb60d0",
   "metadata": {},
   "outputs": [
    {
     "name": "stdout",
     "output_type": "stream",
     "text": [
      "Year                                           0\n",
      "Punxsutawney Phil                              0\n",
      "February Average Temperature                   0\n",
      "February Average Temperature (Northeast)       0\n",
      "February Average Temperature (Midwest)         0\n",
      "February Average Temperature (Pennsylvania)    0\n",
      "March Average Temperature                      0\n",
      "March Average Temperature (Northeast)          0\n",
      "March Average Temperature (Midwest)            0\n",
      "March Average Temperature (Pennsylvania)       0\n",
      "dtype: int64\n"
     ]
    }
   ],
   "source": [
    "#check for missing values\n",
    "\n",
    "print(groundHog_data_noNull.isna().sum())"
   ]
  },
  {
   "cell_type": "code",
   "execution_count": 16,
   "id": "590ce2e8",
   "metadata": {},
   "outputs": [
    {
     "name": "stdout",
     "output_type": "stream",
     "text": [
      "       February Average Temperature  February Average Temperature (Northeast)  \\\n",
      "count                    122.000000                                122.000000   \n",
      "mean                      33.802705                                 22.693443   \n",
      "std                        3.282861                                  4.283174   \n",
      "min                       25.230000                                 10.400000   \n",
      "25%                       31.777500                                 20.025000   \n",
      "50%                       33.690000                                 22.950000   \n",
      "75%                       36.007500                                 25.975000   \n",
      "max                       41.410000                                 31.600000   \n",
      "\n",
      "       February Average Temperature (Midwest)  \\\n",
      "count                              122.000000   \n",
      "mean                                32.694262   \n",
      "std                                  4.863820   \n",
      "min                                 20.300000   \n",
      "25%                                 29.625000   \n",
      "50%                                 33.200000   \n",
      "75%                                 36.300000   \n",
      "max                                 41.400000   \n",
      "\n",
      "       February Average Temperature (Pennsylvania)  March Average Temperature  \\\n",
      "count                                   122.000000                 122.000000   \n",
      "mean                                     26.522951                  41.699016   \n",
      "std                                       4.530900                   2.948321   \n",
      "min                                      15.200000                  35.440000   \n",
      "25%                                      23.600000                  39.375000   \n",
      "50%                                      26.950000                  41.810000   \n",
      "75%                                      29.800000                  43.560000   \n",
      "max                                      35.800000                  50.410000   \n",
      "\n",
      "       March Average Temperature (Northeast)  \\\n",
      "count                             122.000000   \n",
      "mean                               32.368033   \n",
      "std                                 3.889555   \n",
      "min                                24.200000   \n",
      "25%                                29.700000   \n",
      "50%                                32.550000   \n",
      "75%                                34.800000   \n",
      "max                                43.400000   \n",
      "\n",
      "       March Average Temperature (Midwest)  \\\n",
      "count                           122.000000   \n",
      "mean                             42.568852   \n",
      "std                               4.511401   \n",
      "min                              28.500000   \n",
      "25%                              39.075000   \n",
      "50%                              42.850000   \n",
      "75%                              45.600000   \n",
      "max                              56.300000   \n",
      "\n",
      "       March Average Temperature (Pennsylvania)  \n",
      "count                                122.000000  \n",
      "mean                                  35.908197  \n",
      "std                                    4.208955  \n",
      "min                                   24.500000  \n",
      "25%                                   32.950000  \n",
      "50%                                   35.850000  \n",
      "75%                                   38.550000  \n",
      "max                                   47.700000  \n"
     ]
    }
   ],
   "source": [
    "print(groundHog_data_noNull.describe())"
   ]
  },
  {
   "cell_type": "markdown",
   "id": "c1fdb585",
   "metadata": {},
   "source": [
    "Year                                           0\n",
    "Punxsutawney Phil                              0\n",
    "February Average Temperature                   0\n",
    "February Average Temperature (Northeast)       0\n",
    "February Average Temperature (Midwest)         0\n",
    "February Average Temperature (Pennsylvania)    0\n",
    "March Average Temperature                      0\n",
    "March Average Temperature (Northeast)          0\n",
    "March Average Temperature (Midwest)            0\n",
    "March Average Temperature (Pennsylvania)       0\n",
    "dtype: int64"
   ]
  },
  {
   "cell_type": "code",
   "execution_count": 25,
   "id": "59e6e6b4",
   "metadata": {},
   "outputs": [
    {
     "name": "stdout",
     "output_type": "stream",
     "text": [
      "February Average Temperature 33.69\n"
     ]
    }
   ],
   "source": [
    "overall_feb_average_temp = groundHog_data_noNull['February Average Temperature'].median()\n",
    "print(\"February Average Temperature\", overall_feb_average_temp)"
   ]
  },
  {
   "cell_type": "code",
   "execution_count": 21,
   "id": "13d0be1f",
   "metadata": {},
   "outputs": [
    {
     "name": "stdout",
     "output_type": "stream",
     "text": [
      "The upper quartile for February Average Temperature is 36.0075\n",
      "the lower quartile is for February Average Temperature is 31.7775\n",
      "The IQR for February Average Temperature 4.23\n"
     ]
    }
   ],
   "source": [
    "#get the 3rd and 1st quartile\n",
    "pq3,pq1 = np.percentile(groundHog_data_noNull['February Average Temperature'], [75,25])\n",
    "\n",
    "#get IQR for Feb. Avg. Temp\n",
    "iqr = pq3-pq1\n",
    "print(\"The upper quartile for February Average Temperature is\", pq3)\n",
    "print(\"the lower quartile is for February Average Temperature is\", pq1)\n",
    "print(\"The IQR for February Average Temperature\", iqr)\n",
    "\n"
   ]
  },
  {
   "cell_type": "code",
   "execution_count": 26,
   "id": "ad59e756",
   "metadata": {},
   "outputs": [
    {
     "name": "stdout",
     "output_type": "stream",
     "text": [
      "Marcg Average Temperature 41.81\n"
     ]
    }
   ],
   "source": [
    "overall_March_average_temp = groundHog_data_noNull['March Average Temperature'].median()\n",
    "print(\"March Average Temperature\", overall_March_average_temp )"
   ]
  },
  {
   "cell_type": "code",
   "execution_count": 24,
   "id": "331527a6",
   "metadata": {},
   "outputs": [
    {
     "name": "stdout",
     "output_type": "stream",
     "text": [
      "The upper quartile for March Average Temperature is 43.56\n",
      "the lower quartile is for March Average Temperature is 39.38\n",
      "The IQR for March Average Temperature 4.19\n"
     ]
    }
   ],
   "source": [
    "#get the 3rd and 1st quartile\n",
    "pq3,pq1 = np.percentile(groundHog_data_noNull['March Average Temperature'], [75,25])\n",
    "\n",
    "#get IQR for Feb. Avg. Temp and format to 2 decimals only\n",
    "iqr = pq3-pq1\n",
    "pq1_format = \"{:.2f}\".format(pq1)\n",
    "iqr_format = \"{:.2f}\".format(iqr)\n",
    "print(\"The upper quartile for March Average Temperature is\", pq3)\n",
    "print(\"the lower quartile is for March Average Temperature is\", pq1_format)\n",
    "print(\"The IQR for March Average Temperature\", iqr_format)"
   ]
  },
  {
   "cell_type": "code",
   "execution_count": 31,
   "id": "bc638662",
   "metadata": {},
   "outputs": [
    {
     "name": "stdout",
     "output_type": "stream",
     "text": [
      "The difference in average temperature between February and March is 8.120000000000005\n"
     ]
    }
   ],
   "source": [
    "\n",
    "print(\"The difference in average temperature between February and March is\", overall_March_average_temp - overall_feb_average_temp)\n"
   ]
  }
 ],
 "metadata": {
  "kernelspec": {
   "display_name": "Python 3 (ipykernel)",
   "language": "python",
   "name": "python3"
  },
  "language_info": {
   "codemirror_mode": {
    "name": "ipython",
    "version": 3
   },
   "file_extension": ".py",
   "mimetype": "text/x-python",
   "name": "python",
   "nbconvert_exporter": "python",
   "pygments_lexer": "ipython3",
   "version": "3.11.5"
  }
 },
 "nbformat": 4,
 "nbformat_minor": 5
}
