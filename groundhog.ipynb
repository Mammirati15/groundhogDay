{
 "cells": [
  {
   "cell_type": "code",
   "execution_count": 2,
   "id": "b511cea2-2eb4-478f-bd0d-049cea84697b",
   "metadata": {},
   "outputs": [],
   "source": [
    "import numpy as np\n",
    "import pandas as pd\n",
    "import matplotlib.pyplot as plt\n",
    "import seaborn as sns"
   ]
  },
  {
   "cell_type": "code",
   "execution_count": 3,
   "id": "ceeb7f93",
   "metadata": {},
   "outputs": [],
   "source": [
    "groundHog_data = pd.read_csv('archive.csv')"
   ]
  },
  {
   "cell_type": "code",
   "execution_count": 4,
   "id": "9c7b8372",
   "metadata": {},
   "outputs": [
    {
     "name": "stdout",
     "output_type": "stream",
     "text": [
      "   Year Punxsutawney Phil  February Average Temperature  \\\n",
      "0  1886         No Record                           NaN   \n",
      "1  1887       Full Shadow                           NaN   \n",
      "2  1888       Full Shadow                           NaN   \n",
      "3  1889         No Record                           NaN   \n",
      "4  1890         No Shadow                           NaN   \n",
      "\n",
      "   February Average Temperature (Northeast)  \\\n",
      "0                                       NaN   \n",
      "1                                       NaN   \n",
      "2                                       NaN   \n",
      "3                                       NaN   \n",
      "4                                       NaN   \n",
      "\n",
      "   February Average Temperature (Midwest)  \\\n",
      "0                                     NaN   \n",
      "1                                     NaN   \n",
      "2                                     NaN   \n",
      "3                                     NaN   \n",
      "4                                     NaN   \n",
      "\n",
      "   February Average Temperature (Pennsylvania)  March Average Temperature  \\\n",
      "0                                          NaN                        NaN   \n",
      "1                                          NaN                        NaN   \n",
      "2                                          NaN                        NaN   \n",
      "3                                          NaN                        NaN   \n",
      "4                                          NaN                        NaN   \n",
      "\n",
      "   March Average Temperature (Northeast)  March Average Temperature (Midwest)  \\\n",
      "0                                    NaN                                  NaN   \n",
      "1                                    NaN                                  NaN   \n",
      "2                                    NaN                                  NaN   \n",
      "3                                    NaN                                  NaN   \n",
      "4                                    NaN                                  NaN   \n",
      "\n",
      "   March Average Temperature (Pennsylvania)  \n",
      "0                                       NaN  \n",
      "1                                       NaN  \n",
      "2                                       NaN  \n",
      "3                                       NaN  \n",
      "4                                       NaN  \n"
     ]
    }
   ],
   "source": [
    "print (groundHog_data.head())"
   ]
  },
  {
   "cell_type": "code",
   "execution_count": 5,
   "id": "959a2f1d",
   "metadata": {},
   "outputs": [
    {
     "name": "stdout",
     "output_type": "stream",
     "text": [
      "Index(['Year', 'Punxsutawney Phil', 'February Average Temperature',\n",
      "       'February Average Temperature (Northeast)',\n",
      "       'February Average Temperature (Midwest)',\n",
      "       'February Average Temperature (Pennsylvania)',\n",
      "       'March Average Temperature', 'March Average Temperature (Northeast)',\n",
      "       'March Average Temperature (Midwest)',\n",
      "       'March Average Temperature (Pennsylvania)'],\n",
      "      dtype='object')\n"
     ]
    }
   ],
   "source": [
    "#see columns\n",
    "print(groundHog_data.columns)"
   ]
  },
  {
   "cell_type": "code",
   "execution_count": 6,
   "id": "93a0ed42",
   "metadata": {},
   "outputs": [
    {
     "name": "stdout",
     "output_type": "stream",
     "text": [
      "(132, 10)\n"
     ]
    }
   ],
   "source": [
    "#see dimensions\n",
    "print(groundHog_data.shape)"
   ]
  },
  {
   "cell_type": "code",
   "execution_count": 9,
   "id": "fd7ec9f0",
   "metadata": {},
   "outputs": [
    {
     "name": "stdout",
     "output_type": "stream",
     "text": [
      "Year                                            object\n",
      "Punxsutawney Phil                               object\n",
      "February Average Temperature                   float64\n",
      "February Average Temperature (Northeast)       float64\n",
      "February Average Temperature (Midwest)         float64\n",
      "February Average Temperature (Pennsylvania)    float64\n",
      "March Average Temperature                      float64\n",
      "March Average Temperature (Northeast)          float64\n",
      "March Average Temperature (Midwest)            float64\n",
      "March Average Temperature (Pennsylvania)       float64\n",
      "dtype: object\n"
     ]
    }
   ],
   "source": [
    "#see data types\n",
    "print(groundHog_data.dtypes)"
   ]
  },
  {
   "cell_type": "code",
   "execution_count": 8,
   "id": "87a251dd",
   "metadata": {},
   "outputs": [
    {
     "name": "stdout",
     "output_type": "stream",
     "text": [
      "       February Average Temperature  February Average Temperature (Northeast)  \\\n",
      "count                    123.000000                                123.000000   \n",
      "mean                      33.802846                                 22.691870   \n",
      "std                        3.269379                                  4.265619   \n",
      "min                       25.230000                                 10.400000   \n",
      "25%                       31.785000                                 20.050000   \n",
      "50%                       33.690000                                 22.900000   \n",
      "75%                       36.005000                                 25.950000   \n",
      "max                       41.410000                                 31.600000   \n",
      "\n",
      "       February Average Temperature (Midwest)  \\\n",
      "count                              123.000000   \n",
      "mean                                32.695935   \n",
      "std                                  4.843881   \n",
      "min                                 20.300000   \n",
      "25%                                 29.650000   \n",
      "50%                                 33.100000   \n",
      "75%                                 36.300000   \n",
      "max                                 41.400000   \n",
      "\n",
      "       February Average Temperature (Pennsylvania)  March Average Temperature  \\\n",
      "count                                   123.000000                 123.000000   \n",
      "mean                                     26.522764                  41.697398   \n",
      "std                                       4.512293                   2.936268   \n",
      "min                                      15.200000                  35.440000   \n",
      "25%                                      23.600000                  39.390000   \n",
      "50%                                      26.900000                  41.790000   \n",
      "75%                                      29.800000                  43.560000   \n",
      "max                                      35.800000                  50.410000   \n",
      "\n",
      "       March Average Temperature (Northeast)  \\\n",
      "count                             123.000000   \n",
      "mean                               32.367480   \n",
      "std                                 3.873586   \n",
      "min                                24.200000   \n",
      "25%                                29.700000   \n",
      "50%                                32.500000   \n",
      "75%                                34.800000   \n",
      "max                                43.400000   \n",
      "\n",
      "       March Average Temperature (Midwest)  \\\n",
      "count                            123.00000   \n",
      "mean                              42.56748   \n",
      "std                                4.49290   \n",
      "min                               28.50000   \n",
      "25%                               39.15000   \n",
      "50%                               42.80000   \n",
      "75%                               45.60000   \n",
      "max                               56.30000   \n",
      "\n",
      "       March Average Temperature (Pennsylvania)  \n",
      "count                                 123.00000  \n",
      "mean                                   35.90813  \n",
      "std                                     4.19167  \n",
      "min                                    24.50000  \n",
      "25%                                    33.00000  \n",
      "50%                                    35.90000  \n",
      "75%                                    38.50000  \n",
      "max                                    47.70000  \n"
     ]
    }
   ],
   "source": [
    "#descriptive stats\n",
    "print(groundHog_data.describe())"
   ]
  },
  {
   "cell_type": "code",
   "execution_count": 10,
   "id": "6840a397",
   "metadata": {},
   "outputs": [
    {
     "name": "stdout",
     "output_type": "stream",
     "text": [
      "Year                                           0\n",
      "Punxsutawney Phil                              1\n",
      "February Average Temperature                   9\n",
      "February Average Temperature (Northeast)       9\n",
      "February Average Temperature (Midwest)         9\n",
      "February Average Temperature (Pennsylvania)    9\n",
      "March Average Temperature                      9\n",
      "March Average Temperature (Northeast)          9\n",
      "March Average Temperature (Midwest)            9\n",
      "March Average Temperature (Pennsylvania)       9\n",
      "dtype: int64\n"
     ]
    }
   ],
   "source": [
    "print(groundHog_data.isnull().sum())"
   ]
  }
 ],
 "metadata": {
  "kernelspec": {
   "display_name": "Python 3 (ipykernel)",
   "language": "python",
   "name": "python3"
  },
  "language_info": {
   "codemirror_mode": {
    "name": "ipython",
    "version": 3
   },
   "file_extension": ".py",
   "mimetype": "text/x-python",
   "name": "python",
   "nbconvert_exporter": "python",
   "pygments_lexer": "ipython3",
   "version": "3.11.5"
  }
 },
 "nbformat": 4,
 "nbformat_minor": 5
}
